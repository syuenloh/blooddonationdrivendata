{
 "cells": [
  {
   "cell_type": "markdown",
   "metadata": {},
   "source": [
    "# Blood Donation Driven Data competition attempt \n",
    "This was my attempt to use a Decision Tree Classifier, while trying a bit of data exploration.\n",
    "\n",
    "I submitted this for a Driven Data competition for fun: https://www.drivendata.org/competitions/2/warm-up-predict-blood-donations/submissions/"
   ]
  },
  {
   "cell_type": "code",
   "execution_count": 1,
   "metadata": {
    "collapsed": true
   },
   "outputs": [],
   "source": [
    "import pandas as pd\n",
    "from pandas import read_csv\n",
    "import numpy as np\n",
    "import seaborn as sns\n",
    "import matplotlib.pyplot as plt\n",
    "import sklearn\n",
    "%matplotlib inline\n",
    "\n",
    "#read the training file in\n",
    "train = pd.read_csv(\"C:\\Users\\kaisyuenl\\Data science projects\\Driven Data competitions\\Blood Donations\\dtraining.csv\")"
   ]
  },
  {
   "cell_type": "code",
   "execution_count": 519,
   "metadata": {},
   "outputs": [
    {
     "data": {
      "text/html": [
       "<div>\n",
       "<style>\n",
       "    .dataframe thead tr:only-child th {\n",
       "        text-align: right;\n",
       "    }\n",
       "\n",
       "    .dataframe thead th {\n",
       "        text-align: left;\n",
       "    }\n",
       "\n",
       "    .dataframe tbody tr th {\n",
       "        vertical-align: top;\n",
       "    }\n",
       "</style>\n",
       "<table border=\"1\" class=\"dataframe\">\n",
       "  <thead>\n",
       "    <tr>\n",
       "      <th></th>\n",
       "      <th colspan=\"8\" halign=\"left\">Months since First Donation</th>\n",
       "      <th colspan=\"2\" halign=\"left\">Months since Last Donation</th>\n",
       "      <th>...</th>\n",
       "      <th colspan=\"2\" halign=\"left\">Number of Donations</th>\n",
       "      <th colspan=\"8\" halign=\"left\">Total Volume Donated (c.c.)</th>\n",
       "    </tr>\n",
       "    <tr>\n",
       "      <th></th>\n",
       "      <th>count</th>\n",
       "      <th>mean</th>\n",
       "      <th>std</th>\n",
       "      <th>min</th>\n",
       "      <th>25%</th>\n",
       "      <th>50%</th>\n",
       "      <th>75%</th>\n",
       "      <th>max</th>\n",
       "      <th>count</th>\n",
       "      <th>mean</th>\n",
       "      <th>...</th>\n",
       "      <th>75%</th>\n",
       "      <th>max</th>\n",
       "      <th>count</th>\n",
       "      <th>mean</th>\n",
       "      <th>std</th>\n",
       "      <th>min</th>\n",
       "      <th>25%</th>\n",
       "      <th>50%</th>\n",
       "      <th>75%</th>\n",
       "      <th>max</th>\n",
       "    </tr>\n",
       "    <tr>\n",
       "      <th>Made Donation in March 2007</th>\n",
       "      <th></th>\n",
       "      <th></th>\n",
       "      <th></th>\n",
       "      <th></th>\n",
       "      <th></th>\n",
       "      <th></th>\n",
       "      <th></th>\n",
       "      <th></th>\n",
       "      <th></th>\n",
       "      <th></th>\n",
       "      <th></th>\n",
       "      <th></th>\n",
       "      <th></th>\n",
       "      <th></th>\n",
       "      <th></th>\n",
       "      <th></th>\n",
       "      <th></th>\n",
       "      <th></th>\n",
       "      <th></th>\n",
       "      <th></th>\n",
       "      <th></th>\n",
       "    </tr>\n",
       "  </thead>\n",
       "  <tbody>\n",
       "    <tr>\n",
       "      <th>0</th>\n",
       "      <td>438.0</td>\n",
       "      <td>34.319635</td>\n",
       "      <td>24.519606</td>\n",
       "      <td>2.0</td>\n",
       "      <td>16.0</td>\n",
       "      <td>27.0</td>\n",
       "      <td>51.75</td>\n",
       "      <td>98.0</td>\n",
       "      <td>438.0</td>\n",
       "      <td>10.636986</td>\n",
       "      <td>...</td>\n",
       "      <td>6.0</td>\n",
       "      <td>44.0</td>\n",
       "      <td>438.0</td>\n",
       "      <td>1179.223744</td>\n",
       "      <td>1182.496231</td>\n",
       "      <td>250.0</td>\n",
       "      <td>500.0</td>\n",
       "      <td>750.0</td>\n",
       "      <td>1500.0</td>\n",
       "      <td>11000.0</td>\n",
       "    </tr>\n",
       "    <tr>\n",
       "      <th>1</th>\n",
       "      <td>138.0</td>\n",
       "      <td>33.195652</td>\n",
       "      <td>23.343158</td>\n",
       "      <td>2.0</td>\n",
       "      <td>16.0</td>\n",
       "      <td>28.0</td>\n",
       "      <td>45.75</td>\n",
       "      <td>98.0</td>\n",
       "      <td>138.0</td>\n",
       "      <td>5.637681</td>\n",
       "      <td>...</td>\n",
       "      <td>9.0</td>\n",
       "      <td>50.0</td>\n",
       "      <td>138.0</td>\n",
       "      <td>1920.289855</td>\n",
       "      <td>1939.548424</td>\n",
       "      <td>250.0</td>\n",
       "      <td>750.0</td>\n",
       "      <td>1500.0</td>\n",
       "      <td>2250.0</td>\n",
       "      <td>12500.0</td>\n",
       "    </tr>\n",
       "  </tbody>\n",
       "</table>\n",
       "<p>2 rows × 32 columns</p>\n",
       "</div>"
      ],
      "text/plain": [
       "                            Months since First Donation                        \\\n",
       "                                                  count       mean        std   \n",
       "Made Donation in March 2007                                                     \n",
       "0                                                 438.0  34.319635  24.519606   \n",
       "1                                                 138.0  33.195652  23.343158   \n",
       "\n",
       "                                                           \\\n",
       "                             min   25%   50%    75%   max   \n",
       "Made Donation in March 2007                                 \n",
       "0                            2.0  16.0  27.0  51.75  98.0   \n",
       "1                            2.0  16.0  28.0  45.75  98.0   \n",
       "\n",
       "                            Months since Last Donation              ...     \\\n",
       "                                                 count       mean   ...      \n",
       "Made Donation in March 2007                                         ...      \n",
       "0                                                438.0  10.636986   ...      \n",
       "1                                                138.0   5.637681   ...      \n",
       "\n",
       "                            Number of Donations        \\\n",
       "                                            75%   max   \n",
       "Made Donation in March 2007                             \n",
       "0                                           6.0  44.0   \n",
       "1                                           9.0  50.0   \n",
       "\n",
       "                            Total Volume Donated (c.c.)               \\\n",
       "                                                  count         mean   \n",
       "Made Donation in March 2007                                            \n",
       "0                                                 438.0  1179.223744   \n",
       "1                                                 138.0  1920.289855   \n",
       "\n",
       "                                                                        \\\n",
       "                                     std    min    25%     50%     75%   \n",
       "Made Donation in March 2007                                              \n",
       "0                            1182.496231  250.0  500.0   750.0  1500.0   \n",
       "1                            1939.548424  250.0  750.0  1500.0  2250.0   \n",
       "\n",
       "                                      \n",
       "                                 max  \n",
       "Made Donation in March 2007           \n",
       "0                            11000.0  \n",
       "1                            12500.0  \n",
       "\n",
       "[2 rows x 32 columns]"
      ]
     },
     "execution_count": 519,
     "metadata": {},
     "output_type": "execute_result"
    }
   ],
   "source": [
    "analyse=train.drop('Unnamed: 0',axis=1)\n",
    "analyse= analyse.groupby(['Made Donation in March 2007'])\n",
    "analyse.describe()"
   ]
  },
  {
   "cell_type": "code",
   "execution_count": 3,
   "metadata": {},
   "outputs": [
    {
     "name": "stdout",
     "output_type": "stream",
     "text": [
      "['Unnamed: 0' 'Months since Last Donation' 'Number of Donations'\n",
      " 'Total Volume Donated (c.c.)' 'Months since First Donation'\n",
      " 'Made Donation in March 2007']\n"
     ]
    }
   ],
   "source": [
    "print(train.columns.values)"
   ]
  },
  {
   "cell_type": "code",
   "execution_count": 6,
   "metadata": {},
   "outputs": [
    {
     "data": {
      "text/html": [
       "<div>\n",
       "<style>\n",
       "    .dataframe thead tr:only-child th {\n",
       "        text-align: right;\n",
       "    }\n",
       "\n",
       "    .dataframe thead th {\n",
       "        text-align: left;\n",
       "    }\n",
       "\n",
       "    .dataframe tbody tr th {\n",
       "        vertical-align: top;\n",
       "    }\n",
       "</style>\n",
       "<table border=\"1\" class=\"dataframe\">\n",
       "  <thead>\n",
       "    <tr style=\"text-align: right;\">\n",
       "      <th></th>\n",
       "      <th>Made Donation in March 2007</th>\n",
       "      <th>Months since Last Donation</th>\n",
       "    </tr>\n",
       "  </thead>\n",
       "  <tbody>\n",
       "    <tr>\n",
       "      <th>1</th>\n",
       "      <td>1</td>\n",
       "      <td>5.637681</td>\n",
       "    </tr>\n",
       "    <tr>\n",
       "      <th>0</th>\n",
       "      <td>0</td>\n",
       "      <td>10.636986</td>\n",
       "    </tr>\n",
       "  </tbody>\n",
       "</table>\n",
       "</div>"
      ],
      "text/plain": [
       "   Made Donation in March 2007  Months since Last Donation\n",
       "1                            1                    5.637681\n",
       "0                            0                   10.636986"
      ]
     },
     "execution_count": 6,
     "metadata": {},
     "output_type": "execute_result"
    }
   ],
   "source": [
    "train[['Made Donation in March 2007', 'Months since Last Donation']].groupby(['Made Donation in March 2007'], as_index=False).mean().sort_values(by='Made Donation in March 2007', ascending=False)"
   ]
  },
  {
   "cell_type": "code",
   "execution_count": null,
   "metadata": {
    "collapsed": true
   },
   "outputs": [],
   "source": [
    "train[['Made Donation in March 2007', 'Months since Last Donation']].groupby(['Made Donation in March 2007'], as_index=False).mean().sort_values(by='Made Donation in March 2007', ascending=False)"
   ]
  },
  {
   "cell_type": "markdown",
   "metadata": {},
   "source": [
    "First, exploring variables and how their characteristics differ between donors and non-donors in March 2007."
   ]
  },
  {
   "cell_type": "code",
   "execution_count": 521,
   "metadata": {
    "collapsed": true
   },
   "outputs": [],
   "source": [
    "Vol_notdonated=train.loc[train['Made Donation in March 2007'] == 0, 'Total Volume Donated (c.c.)']\n",
    "Vol_donated=train.loc[train['Made Donation in March 2007'] == 1, 'Total Volume Donated (c.c.)']"
   ]
  },
  {
   "cell_type": "code",
   "execution_count": 522,
   "metadata": {
    "scrolled": true
   },
   "outputs": [
    {
     "data": {
      "text/plain": [
       "count      138.000000\n",
       "mean      1920.289855\n",
       "std       1939.548424\n",
       "min        250.000000\n",
       "25%        750.000000\n",
       "50%       1500.000000\n",
       "75%       2250.000000\n",
       "max      12500.000000\n",
       "Name: Total Volume Donated (c.c.), dtype: float64"
      ]
     },
     "execution_count": 522,
     "metadata": {},
     "output_type": "execute_result"
    }
   ],
   "source": [
    "Vol_donated.describe()"
   ]
  },
  {
   "cell_type": "code",
   "execution_count": 523,
   "metadata": {},
   "outputs": [
    {
     "data": {
      "text/plain": [
       "count      438.000000\n",
       "mean      1179.223744\n",
       "std       1182.496231\n",
       "min        250.000000\n",
       "25%        500.000000\n",
       "50%        750.000000\n",
       "75%       1500.000000\n",
       "max      11000.000000\n",
       "Name: Total Volume Donated (c.c.), dtype: float64"
      ]
     },
     "execution_count": 523,
     "metadata": {},
     "output_type": "execute_result"
    }
   ],
   "source": [
    "Vol_notdonated.describe()"
   ]
  },
  {
   "cell_type": "code",
   "execution_count": 524,
   "metadata": {},
   "outputs": [
    {
     "data": {
      "text/plain": [
       "<seaborn.axisgrid.FacetGrid at 0x166c56a0>"
      ]
     },
     "execution_count": 524,
     "metadata": {},
     "output_type": "execute_result"
    },
    {
     "data": {
      "image/png": "[encoded data removed]",
      "text/plain": [
       "<matplotlib.figure.Figure at 0x18ade940>"
      ]
     },
     "metadata": {},
     "output_type": "display_data"
    }
   ],
   "source": [
    "g = sns.FacetGrid(train, col=\"Made Donation in March 2007\")\n",
    "g.map(plt.hist, 'Total Volume Donated (c.c.)', bins=20)"
   ]
  },
  {
   "cell_type": "markdown",
   "metadata": {},
   "source": [
    "Distributions for 'Total Volume Donated (c.c.)' are very similar but  means and median differ - those who made a donation donated more in total volume compared to those who did not donate."
   ]
  },
  {
   "cell_type": "code",
   "execution_count": 525,
   "metadata": {
    "collapsed": true
   },
   "outputs": [],
   "source": [
    "months_lastnotdonated=train.loc[train['Made Donation in March 2007'] == 0, 'Months since Last Donation']\n",
    "months_lastdonated=train.loc[train['Made Donation in March 2007'] == 1, 'Months since Last Donation']"
   ]
  },
  {
   "cell_type": "code",
   "execution_count": 526,
   "metadata": {},
   "outputs": [
    {
     "data": {
      "text/plain": [
       "count    138.000000\n",
       "mean       5.637681\n",
       "std        5.513013\n",
       "min        0.000000\n",
       "25%        2.000000\n",
       "50%        4.000000\n",
       "75%        6.000000\n",
       "max       26.000000\n",
       "Name: Months since Last Donation, dtype: float64"
      ]
     },
     "execution_count": 526,
     "metadata": {},
     "output_type": "execute_result"
    }
   ],
   "source": [
    "months_lastdonated.describe()"
   ]
  },
  {
   "cell_type": "code",
   "execution_count": 527,
   "metadata": {},
   "outputs": [
    {
     "data": {
      "text/plain": [
       "count    438.000000\n",
       "mean      10.636986\n",
       "std        8.509690\n",
       "min        0.000000\n",
       "25%        4.000000\n",
       "50%       11.000000\n",
       "75%       16.000000\n",
       "max       74.000000\n",
       "Name: Months since Last Donation, dtype: float64"
      ]
     },
     "execution_count": 527,
     "metadata": {},
     "output_type": "execute_result"
    }
   ],
   "source": [
    "months_lastnotdonated.describe()"
   ]
  },
  {
   "cell_type": "code",
   "execution_count": 528,
   "metadata": {
    "scrolled": false
   },
   "outputs": [
    {
     "data": {
      "text/plain": [
       "<seaborn.axisgrid.FacetGrid at 0x17c300f0>"
      ]
     },
     "execution_count": 528,
     "metadata": {},
     "output_type": "execute_result"
    },
    {
     "data": {
      "image/png": "[encoded data removed]",
      "text/plain": [
       "<matplotlib.figure.Figure at 0x18a46e48>"
      ]
     },
     "metadata": {},
     "output_type": "display_data"
    }
   ],
   "source": [
    "g = sns.FacetGrid(train, col=\"Made Donation in March 2007\")\n",
    "g.map(plt.hist, 'Months since Last Donation', bins=10)"
   ]
  },
  {
   "cell_type": "markdown",
   "metadata": {},
   "source": [
    "Both distribution and means of for the 'Months since Last Donation' are very different for both donors and non-donors. Overall, those who donated in March 2007 tend to have had less of a gap in months since their last donation. "
   ]
  },
  {
   "cell_type": "code",
   "execution_count": 529,
   "metadata": {
    "collapsed": true
   },
   "outputs": [],
   "source": [
    "months_firstnotdonated=train.loc[train['Made Donation in March 2007'] == 0, 'Months since First Donation']\n",
    "months_firstdonated=train.loc[train['Made Donation in March 2007'] == 1, 'Months since First Donation']"
   ]
  },
  {
   "cell_type": "code",
   "execution_count": 530,
   "metadata": {},
   "outputs": [
    {
     "data": {
      "text/plain": [
       "count    138.000000\n",
       "mean      33.195652\n",
       "std       23.343158\n",
       "min        2.000000\n",
       "25%       16.000000\n",
       "50%       28.000000\n",
       "75%       45.750000\n",
       "max       98.000000\n",
       "Name: Months since First Donation, dtype: float64"
      ]
     },
     "execution_count": 530,
     "metadata": {},
     "output_type": "execute_result"
    }
   ],
   "source": [
    "months_firstdonated.describe()"
   ]
  },
  {
   "cell_type": "code",
   "execution_count": 531,
   "metadata": {},
   "outputs": [
    {
     "data": {
      "text/plain": [
       "count    438.000000\n",
       "mean      34.319635\n",
       "std       24.519606\n",
       "min        2.000000\n",
       "25%       16.000000\n",
       "50%       27.000000\n",
       "75%       51.750000\n",
       "max       98.000000\n",
       "Name: Months since First Donation, dtype: float64"
      ]
     },
     "execution_count": 531,
     "metadata": {},
     "output_type": "execute_result"
    }
   ],
   "source": [
    "months_firstnotdonated.describe()"
   ]
  },
  {
   "cell_type": "code",
   "execution_count": 532,
   "metadata": {
    "scrolled": false
   },
   "outputs": [
    {
     "data": {
      "text/plain": [
       "<seaborn.axisgrid.FacetGrid at 0x190f13c8>"
      ]
     },
     "execution_count": 532,
     "metadata": {},
     "output_type": "execute_result"
    },
    {
     "data": {
      "image/png": "[encoded data removed]",
      "text/plain": [
       "<matplotlib.figure.Figure at 0x17fefac8>"
      ]
     },
     "metadata": {},
     "output_type": "display_data"
    }
   ],
   "source": [
    "g = sns.FacetGrid(train, col=\"Made Donation in March 2007\")\n",
    "g.map(plt.hist, 'Months since First Donation', bins=20)"
   ]
  },
  {
   "cell_type": "markdown",
   "metadata": {},
   "source": [
    "Distributions and means are very similar for donors and non-donors. Thus my hunch is to drop this variable from the model, as it may not have much predictive power in determining whether a donor donated in March 2007 or not. "
   ]
  },
  {
   "cell_type": "code",
   "execution_count": 533,
   "metadata": {
    "collapsed": true
   },
   "outputs": [],
   "source": [
    "nodonations_notdonated=train.loc[train['Made Donation in March 2007'] == 0, 'Number of Donations']\n",
    "nodonations_donated=train.loc[train['Made Donation in March 2007'] == 1, 'Number of Donations']"
   ]
  },
  {
   "cell_type": "code",
   "execution_count": 534,
   "metadata": {},
   "outputs": [
    {
     "data": {
      "text/plain": [
       "count    438.000000\n",
       "mean       4.716895\n",
       "std        4.729985\n",
       "min        1.000000\n",
       "25%        2.000000\n",
       "50%        3.000000\n",
       "75%        6.000000\n",
       "max       44.000000\n",
       "Name: Number of Donations, dtype: float64"
      ]
     },
     "execution_count": 534,
     "metadata": {},
     "output_type": "execute_result"
    }
   ],
   "source": [
    "nodonations_notdonated.describe()"
   ]
  },
  {
   "cell_type": "code",
   "execution_count": 535,
   "metadata": {},
   "outputs": [
    {
     "data": {
      "text/plain": [
       "count    138.000000\n",
       "mean       7.681159\n",
       "std        7.758194\n",
       "min        1.000000\n",
       "25%        3.000000\n",
       "50%        6.000000\n",
       "75%        9.000000\n",
       "max       50.000000\n",
       "Name: Number of Donations, dtype: float64"
      ]
     },
     "execution_count": 535,
     "metadata": {},
     "output_type": "execute_result"
    }
   ],
   "source": [
    "nodonations_donated.describe()"
   ]
  },
  {
   "cell_type": "code",
   "execution_count": 536,
   "metadata": {
    "scrolled": true
   },
   "outputs": [
    {
     "data": {
      "text/plain": [
       "<seaborn.axisgrid.FacetGrid at 0x18502828>"
      ]
     },
     "execution_count": 536,
     "metadata": {},
     "output_type": "execute_result"
    },
    {
     "data": {
      "image/png": "[encoded data removed]",
      "text/plain": [
       "<matplotlib.figure.Figure at 0x189c8f60>"
      ]
     },
     "metadata": {},
     "output_type": "display_data"
    }
   ],
   "source": [
    "g = sns.FacetGrid(train, col=\"Made Donation in March 2007\")\n",
    "g.map(plt.hist, 'Number of Donations', bins=10)"
   ]
  },
  {
   "cell_type": "markdown",
   "metadata": {},
   "source": [
    "Again, similar distribution and mean. But there is a difference in the means of the two groups, hence will include this in the model for now. Those who donated in March 2007 tend to donate more times compared to those who did not donate."
   ]
  },
  {
   "cell_type": "markdown",
   "metadata": {},
   "source": [
    "Findings so far:\n",
    "1. Larger number of non-donors compared to donors in March 2007 (~76% are non-donors compared to donors).\n",
    "2. The distribution of the variable 'Months since First Donation' appear to be very similar among donors and non donors. Hence, first attempt is to remove this variable from the model. 'Total Volume Donated (c.c.)' and 'Number of Donations' distributions are also very similar, but the means differ between donors and non-donors, hence keep these variables first.\n",
    "\n",
    "First, I want to try and use a decision tree on all the variables first, as that is a good way to look at the variable importance."
   ]
  },
  {
   "cell_type": "code",
   "execution_count": 537,
   "metadata": {
    "collapsed": true
   },
   "outputs": [],
   "source": [
    "#drop the 'Unnamed : 0' variable as this is our ID variable that should not be a predictor variable\n",
    "train=train.drop('Unnamed: 0', axis=1)"
   ]
  },
  {
   "cell_type": "code",
   "execution_count": 538,
   "metadata": {
    "collapsed": true
   },
   "outputs": [],
   "source": [
    "#split the training set into X and Y\n",
    "X = train.drop('Made Donation in March 2007',axis=1)\n",
    "y = train[['Made Donation in March 2007']]"
   ]
  },
  {
   "cell_type": "code",
   "execution_count": 539,
   "metadata": {
    "collapsed": true
   },
   "outputs": [],
   "source": [
    "#split into training and testing sets\n",
    "from sklearn.cross_validation import train_test_split\n",
    "\n",
    "X_train, X_test, y_train, y_test = train_test_split(X, y, test_size=0.2, random_state=50)"
   ]
  },
  {
   "cell_type": "code",
   "execution_count": 540,
   "metadata": {
    "collapsed": true
   },
   "outputs": [],
   "source": [
    "#fit the decision tree model onto training data\n",
    "from sklearn import tree\n",
    "clf = tree.DecisionTreeClassifier()\n",
    "clf = clf.fit(X_train, y_train)"
   ]
  },
  {
   "cell_type": "code",
   "execution_count": 541,
   "metadata": {
    "collapsed": true
   },
   "outputs": [],
   "source": [
    "#use trained model to predict test data\n",
    "preds=clf.predict_proba(X_test)"
   ]
  },
  {
   "cell_type": "code",
   "execution_count": 542,
   "metadata": {},
   "outputs": [
    {
     "name": "stdout",
     "output_type": "stream",
     "text": [
      "0.629310344828\n"
     ]
    }
   ],
   "source": [
    "#check accuracy score\n",
    "print clf.score(X_test, y_test)"
   ]
  },
  {
   "cell_type": "code",
   "execution_count": 543,
   "metadata": {
    "scrolled": true
   },
   "outputs": [
    {
     "name": "stdout",
     "output_type": "stream",
     "text": [
      "10.8135065535\n"
     ]
    }
   ],
   "source": [
    "#test classification error\n",
    "from sklearn.metrics import log_loss\n",
    "score=log_loss(y_test, preds)\n",
    "print (score)"
   ]
  },
  {
   "cell_type": "markdown",
   "metadata": {},
   "source": [
    "This doesn't look too good, especially since the current leaderboard scores are less than 1! In fact, the latest best score is only 0.48 or so.\n",
    "\n",
    "Next, I will check the feature importance."
   ]
  },
  {
   "cell_type": "code",
   "execution_count": 544,
   "metadata": {},
   "outputs": [
    {
     "name": "stdout",
     "output_type": "stream",
     "text": [
      "[ 0.28551285  0.21197811  0.11162363  0.39088541]\n"
     ]
    }
   ],
   "source": [
    "#print feature importance ranking from model\n",
    "features=clf.feature_importances_ \n",
    "print (features)"
   ]
  },
  {
   "cell_type": "code",
   "execution_count": 545,
   "metadata": {},
   "outputs": [
    {
     "data": {
      "text/plain": [
       "Index([u'Months since Last Donation', u'Number of Donations',\n",
       "       u'Total Volume Donated (c.c.)', u'Months since First Donation'],\n",
       "      dtype='object')"
      ]
     },
     "execution_count": 545,
     "metadata": {},
     "output_type": "execute_result"
    }
   ],
   "source": [
    "X_train.columns"
   ]
  },
  {
   "cell_type": "markdown",
   "metadata": {},
   "source": [
    "We can see that the most important feature is the Months since First Donation, followed by Months since Last Donation, followed by Total Volume Donated, and lastly, Number of Donations. \n",
    "\n",
    "Does this mean that my hypothesis earlier was wrong? I'm not sure. Let me try removing the Number of Donations variable and see whether my model score improves."
   ]
  },
  {
   "cell_type": "code",
   "execution_count": 546,
   "metadata": {
    "collapsed": true
   },
   "outputs": [],
   "source": [
    "#drop the 'Number of Donations' variable\n",
    "train2=train.drop('Number of Donations', axis=1)"
   ]
  },
  {
   "cell_type": "code",
   "execution_count": 547,
   "metadata": {
    "collapsed": true
   },
   "outputs": [],
   "source": [
    "#split the training set into X and Y\n",
    "X = train2.drop('Made Donation in March 2007',axis=1)\n",
    "y = train2[['Made Donation in March 2007']]"
   ]
  },
  {
   "cell_type": "code",
   "execution_count": 548,
   "metadata": {
    "collapsed": true
   },
   "outputs": [],
   "source": [
    "#split into training and testing sets\n",
    "X_train, X_test, y_train, y_test = train_test_split(X, y, test_size=0.2, random_state=50)"
   ]
  },
  {
   "cell_type": "code",
   "execution_count": 549,
   "metadata": {
    "collapsed": true
   },
   "outputs": [],
   "source": [
    "#fit the decision tree model onto training data\n",
    "clf = tree.DecisionTreeClassifier()\n",
    "clf = clf.fit(X_train, y_train)"
   ]
  },
  {
   "cell_type": "code",
   "execution_count": 550,
   "metadata": {
    "collapsed": true
   },
   "outputs": [],
   "source": [
    "#use trained model to predict test data\n",
    "preds=clf.predict_proba(X_test)"
   ]
  },
  {
   "cell_type": "code",
   "execution_count": 551,
   "metadata": {},
   "outputs": [
    {
     "name": "stdout",
     "output_type": "stream",
     "text": [
      "0.637931034483\n"
     ]
    }
   ],
   "source": [
    "#check accuracy score\n",
    "print clf.score(X_test, y_test)"
   ]
  },
  {
   "cell_type": "code",
   "execution_count": 552,
   "metadata": {},
   "outputs": [
    {
     "name": "stdout",
     "output_type": "stream",
     "text": [
      "10.5157584811\n"
     ]
    }
   ],
   "source": [
    "#test classification error\n",
    "from sklearn.metrics import log_loss\n",
    "score=log_loss(y_test, preds)\n",
    "print (score)"
   ]
  },
  {
   "cell_type": "code",
   "execution_count": 553,
   "metadata": {},
   "outputs": [
    {
     "name": "stdout",
     "output_type": "stream",
     "text": [
      "[ 0.28701284  0.32605116  0.386936  ]\n"
     ]
    }
   ],
   "source": [
    "#print feature importance ranking from model\n",
    "features=clf.feature_importances_ \n",
    "print (features)"
   ]
  },
  {
   "cell_type": "markdown",
   "metadata": {},
   "source": [
    "Hm, it hasn't improved at all! In fact, the score got slightly worse! Let me ignore the feature importance, and try to test my hypothesis. \n",
    "\n",
    "I'm going to try removing the variable 'Months since First Donation' as there are very similar distributions for both donors and non-donors."
   ]
  },
  {
   "cell_type": "code",
   "execution_count": 554,
   "metadata": {
    "collapsed": true
   },
   "outputs": [],
   "source": [
    "#drop the 'Months since First Donation' variable due to similarity in distribution\n",
    "train3=train.drop('Months since First Donation', axis=1)"
   ]
  },
  {
   "cell_type": "code",
   "execution_count": 555,
   "metadata": {
    "collapsed": true
   },
   "outputs": [],
   "source": [
    "#split the training set into X and Y\n",
    "X = train3.drop('Made Donation in March 2007',axis=1)\n",
    "y = train3[['Made Donation in March 2007']]"
   ]
  },
  {
   "cell_type": "code",
   "execution_count": 556,
   "metadata": {
    "collapsed": true
   },
   "outputs": [],
   "source": [
    "#split into training and testing sets\n",
    "X_train, X_test, y_train, y_test = train_test_split(X, y, test_size=0.2, random_state=50)"
   ]
  },
  {
   "cell_type": "code",
   "execution_count": 557,
   "metadata": {
    "collapsed": true
   },
   "outputs": [],
   "source": [
    "#fit the decision tree model onto training data\n",
    "clf = tree.DecisionTreeClassifier()\n",
    "clf = clf.fit(X_train, y_train)"
   ]
  },
  {
   "cell_type": "code",
   "execution_count": 558,
   "metadata": {
    "collapsed": true
   },
   "outputs": [],
   "source": [
    "#use trained model to predict test data\n",
    "preds=clf.predict_proba(X_test)"
   ]
  },
  {
   "cell_type": "code",
   "execution_count": 559,
   "metadata": {},
   "outputs": [
    {
     "name": "stdout",
     "output_type": "stream",
     "text": [
      "0.724137931034\n"
     ]
    }
   ],
   "source": [
    "#check accuracy score\n",
    "print clf.score(X_test, y_test)"
   ]
  },
  {
   "cell_type": "code",
   "execution_count": 560,
   "metadata": {},
   "outputs": [
    {
     "name": "stdout",
     "output_type": "stream",
     "text": [
      "3.11011401834\n"
     ]
    }
   ],
   "source": [
    "#test classification error\n",
    "score=log_loss(y_test, preds)\n",
    "print (score)"
   ]
  },
  {
   "cell_type": "code",
   "execution_count": 561,
   "metadata": {},
   "outputs": [
    {
     "name": "stdout",
     "output_type": "stream",
     "text": [
      "[ 0.47728428  0.15081908  0.37189663]\n"
     ]
    }
   ],
   "source": [
    "#print feature importance ranking from model\n",
    "features=clf.feature_importances_ \n",
    "print (features)"
   ]
  },
  {
   "cell_type": "markdown",
   "metadata": {},
   "source": [
    "The feature importance ranking has changed, once we removed that variable. "
   ]
  },
  {
   "cell_type": "markdown",
   "metadata": {},
   "source": [
    "A much better score compared to the previous two versions!\n",
    "I'd like to see if I can improve the tweaking the decision tree model parameters."
   ]
  },
  {
   "cell_type": "code",
   "execution_count": 562,
   "metadata": {},
   "outputs": [
    {
     "name": "stdout",
     "output_type": "stream",
     "text": [
      "0.689655172414\n",
      "0.560924590997\n"
     ]
    }
   ],
   "source": [
    "#fit the decision tree model onto training data\n",
    "clf = tree.DecisionTreeClassifier(max_depth=3)\n",
    "clf = clf.fit(X_train, y_train)\n",
    "#use trained model to predict test data\n",
    "preds=clf.predict_proba(X_test)\n",
    "#check accuracy score\n",
    "print clf.score(X_test, y_test)\n",
    "score=log_loss(y_test, preds)\n",
    "print (score)"
   ]
  },
  {
   "cell_type": "markdown",
   "metadata": {},
   "source": [
    "A slightly lower accuracy score, but a better log loss score."
   ]
  },
  {
   "cell_type": "code",
   "execution_count": 574,
   "metadata": {
    "collapsed": true
   },
   "outputs": [],
   "source": [
    "#use this model to predict on test cases\n",
    "#import test file\n",
    "test = pd.read_csv(\"C:\\Users\\kaisyuenl\\Data science projects\\Driven Data competitions\\Blood Donations\\dtest.csv\")"
   ]
  },
  {
   "cell_type": "code",
   "execution_count": 575,
   "metadata": {
    "collapsed": true
   },
   "outputs": [],
   "source": [
    "#drop 'Months since First Donation' and ID columns\n",
    "test2=test.drop('Months since First Donation', axis=1)\n",
    "test2=test2.drop('Unnamed: 0', axis=1)"
   ]
  },
  {
   "cell_type": "code",
   "execution_count": 576,
   "metadata": {
    "collapsed": true
   },
   "outputs": [],
   "source": [
    "#use trained model on test data set\n",
    "preds2=clf.predict_proba(test2)"
   ]
  },
  {
   "cell_type": "code",
   "execution_count": 577,
   "metadata": {
    "collapsed": true
   },
   "outputs": [],
   "source": [
    "#convert array from model into data frame column\n",
    "preds_df=pd.DataFrame(preds2[:,1], columns=[\"Made Donation in March 2007\"])"
   ]
  },
  {
   "cell_type": "code",
   "execution_count": 578,
   "metadata": {
    "collapsed": true
   },
   "outputs": [],
   "source": [
    "#manipulate data set to follow submission format\n",
    "dsub=test.join(preds_df)\n",
    "dsub=dsub[['Unnamed: 0','Made Donation in March 2007']]\n",
    "dsub.to_csv(path_or_buf='submission.csv',index=False)"
   ]
  },
  {
   "cell_type": "markdown",
   "metadata": {},
   "source": [
    "Best score so far, 0.4968."
   ]
  }
 ],
 "metadata": {
  "kernelspec": {
   "display_name": "Python 2",
   "language": "python",
   "name": "python2"
  },
  "language_info": {
   "codemirror_mode": {
    "name": "ipython",
    "version": 2
   },
   "file_extension": ".py",
   "mimetype": "text/x-python",
   "name": "python",
   "nbconvert_exporter": "python",
   "pygments_lexer": "ipython2",
   "version": "2.7.14"
  }
 },
 "nbformat": 4,
 "nbformat_minor": 2
}
